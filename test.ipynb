{
 "cells": [
  {
   "cell_type": "code",
   "execution_count": 3,
   "metadata": {},
   "outputs": [
    {
     "name": "stdout",
     "output_type": "stream",
     "text": [
      "找到300首歌曲\n",
      "{\"id\": 298317, \"name\": \"屋顶\", \"duration\": 319039}\n",
      "{\"id\": 210049, \"name\": \"布拉格广场\", \"duration\": 294000}\n",
      "{\"id\": 536570450, \"name\": \"魔术与歌曲：告白气球\", \"duration\": 214203}\n",
      "{\"id\": 255020, \"name\": \"刀马旦\", \"duration\": 192866}\n",
      "{\"id\": 29393641, \"name\": \"布拉格广场\", \"duration\": 293851}\n",
      "{\"id\": 5257138, \"name\": \"屋顶\", \"duration\": 321253}\n",
      "{\"id\": 209756, \"name\": \"布拉格广场\", \"duration\": 292520}\n",
      "{\"id\": 209760, \"name\": \"骑士精神\", \"duration\": 258120}\n",
      "{\"id\": 298101, \"name\": \"祝我生日快乐 (Live)\", \"duration\": 258000}\n",
      "{\"id\": 254832, \"name\": \"刀马旦\", \"duration\": 192075}\n",
      "{\"id\": 561999164, \"name\": \"周杰伦\", \"duration\": 268905}\n",
      "{\"id\": 288371, \"name\": \"黄浦江深\", \"duration\": 242000}\n",
      "{\"id\": 210062, \"name\": \"骑士精神\", \"duration\": 257000}\n",
      "{\"id\": 288820, \"name\": \"结尾曲-友谊地久天长(Live)\", \"duration\": 416000}\n",
      "{\"id\": 254942, \"name\": \"刀马旦\", \"duration\": 214826}\n",
      "{\"id\": 5268828, \"name\": \"刀马旦\", \"duration\": 192862}\n",
      "{\"id\": 5257160, \"name\": \"刀马旦\", \"duration\": 193253}\n",
      "{\"id\": 400162858, \"name\": \"布拉格广场\", \"duration\": 294600}\n",
      "{\"id\": 209660, \"name\": \"布拉格广场\", \"duration\": 291578}\n",
      "{\"id\": 400581225, \"name\": \"海盗\", \"duration\": 274677}\n"
     ]
    }
   ],
   "source": [
    "import json\n",
    "from models import Song\n",
    "\n",
    "with open('templates/search_result.json', 'r') as f:\n",
    "    data = json.loads(f.read())\n",
    "    print(\"找到{}首歌曲\".format(data[\"result\"][\"songCount\"]))\n",
    "    for item in data[\"result\"][\"songs\"]:\n",
    "        print(Song(data=item))\n",
    "    \n"
   ]
  },
  {
   "cell_type": "code",
   "execution_count": 7,
   "metadata": {},
   "outputs": [
    {
     "name": "stdout",
     "output_type": "stream",
     "text": [
      "294\n"
     ]
    }
   ],
   "source": [
    "d = 293851 / 1000\n",
    "print(round(d))"
   ]
  }
 ],
 "metadata": {
  "interpreter": {
   "hash": "a3ed0ac91635ce935c9aa870ad95a86da887d6425b514a2637034ced08d0cacb"
  },
  "kernelspec": {
   "display_name": "Python 3.9.7 64-bit ('musica': pyenv)",
   "language": "python",
   "name": "python3"
  },
  "language_info": {
   "codemirror_mode": {
    "name": "ipython",
    "version": 3
   },
   "file_extension": ".py",
   "mimetype": "text/x-python",
   "name": "python",
   "nbconvert_exporter": "python",
   "pygments_lexer": "ipython3",
   "version": "3.9.7"
  },
  "orig_nbformat": 4
 },
 "nbformat": 4,
 "nbformat_minor": 2
}
